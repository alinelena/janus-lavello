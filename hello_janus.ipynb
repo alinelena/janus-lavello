{
  "nbformat": 4,
  "nbformat_minor": 0,
  "metadata": {
    "colab": {
      "private_outputs": true,
      "provenance": [],
      "authorship_tag": "ABX9TyN2Tl1ZNRH9G6YvCLErKMEw",
      "include_colab_link": true
    },
    "kernelspec": {
      "name": "python3",
      "display_name": "Python 3"
    },
    "language_info": {
      "name": "python"
    }
  },
  "cells": [
    {
      "cell_type": "markdown",
      "metadata": {
        "id": "view-in-github",
        "colab_type": "text"
      },
      "source": [
        "<a href=\"https://colab.research.google.com/github/alinelena/janus-lavello/blob/main/hello_janus.ipynb\" target=\"_parent\"><img src=\"https://colab.research.google.com/assets/colab-badge.svg\" alt=\"Open In Colab\"/></a>"
      ]
    },
    {
      "cell_type": "markdown",
      "source": [
        "install dependencies, pay special atention to install ase by hand"
      ],
      "metadata": {
        "id": "cF2xy0hZ9w5Z"
      }
    },
    {
      "cell_type": "code",
      "execution_count": null,
      "metadata": {
        "id": "PGU3CbVT9vfi"
      },
      "outputs": [],
      "source": [
        "!python3 -m pip install -U git+https://github.com/stfc/janus-core.git\n",
        "!python3 -m pip install -U git+https://gitlab.com/ase/ase.git\n",
        "!python3 -m pip install rdkit"
      ]
    },
    {
      "cell_type": "code",
      "source": [
        "from ase.build import bulk\n",
        "from ase.io import write\n",
        "\n",
        "from janus_core.single_point import SinglePoint\n",
        "\n",
        "NaCl = bulk('NaCl', 'rocksalt', a=5.63, cubic=True)\n",
        "sp = SinglePoint(struct=NaCl,\n",
        "                 architecture=\"mace_mp\",\n",
        "                 device='cpu',\n",
        "                 calc_kwargs={'model':'medium'})\n",
        "\n",
        "res = sp.run()\n",
        "print(res)"
      ],
      "metadata": {
        "id": "cgch8VQ--AES"
      },
      "execution_count": null,
      "outputs": []
    },
    {
      "cell_type": "code",
      "source": [
        "from ase.build import molecule\n",
        "from ase.io import write\n",
        "\n",
        "from janus_core.single_point import SinglePoint\n",
        "\n",
        "sp = SinglePoint(struct=molecule('H2O'),\n",
        "                 architecture=\"mace_off\",\n",
        "                 device='cpu',\n",
        "                 calc_kwargs={'model':'medium'})\n",
        "\n",
        "res = sp.run()\n",
        "print(res)"
      ],
      "metadata": {
        "id": "cbvNchA4_dEq"
      },
      "execution_count": null,
      "outputs": []
    },
    {
      "cell_type": "code",
      "source": [
        "from ase.build import surface,bulk, add_adsorbate, molecule\n",
        "from ase.visualize import view\n",
        "from ase.io import read\n",
        "from rdkit import Chem\n",
        "m = Chem.MolFromSmiles('C(C1C(C(C(C(O1)OC2(C(C(C(O2)CO)O)O)CO)O)O)O)O')\n",
        "Chem.SDWriter('sugar.sdf').write(m)\n",
        "\n",
        "a = 5.63\n",
        "NaCl = bulk('NaCl', crystalstructure=\"rocksalt\",cubic=True,orthorhombic=True,a=5.63)*(6,6,3)\n",
        "NaCl.center(vacuum=20.0, axis=2)\n",
        "sugar = read(\"sugar.sdf\")\n",
        "add_adsorbate(slab=NaCl, adsorbate=sugar, height=4.5, position=(10,10))\n",
        "write(\"slab.xyz\",NaCl)\n",
        "sp = SinglePoint(struct_path=\"slab.xyz\",\n",
        "                 architecture=\"mace_mp\",\n",
        "                 device='cpu',\n",
        "                 calc_kwargs={'model':'small'})\n",
        "res = sp.run()\n",
        "print(res)\n",
        "view(NaCl,viewer='x3d')\n"
      ],
      "metadata": {
        "id": "AT1XiWBp-jxR"
      },
      "execution_count": null,
      "outputs": []
    },
    {
      "cell_type": "code",
      "source": [
        "\n",
        "print(m)"
      ],
      "metadata": {
        "id": "rde921UaoLcd"
      },
      "execution_count": null,
      "outputs": []
    },
    {
      "cell_type": "code",
      "source": [
        "from janus_core.geom_opt import optimize\n",
        "from janus_core.mlip_calculators import choose_calculator\n",
        "from ase.filters import FrechetCellFilter\n",
        "\n",
        "NaCl = bulk('NaCl', 'rocksalt', a=5.62, cubic=True)\n",
        "NaCl.set_cell([5.62,5.62,5.62,89,90,90])\n",
        "nacl_one = NaCl.copy()\n",
        "nacl_one.calc = choose_calculator(architecture=\"mace_mp\", model=\"small\")\n",
        "\n",
        "opt_NaCl = optimize(nacl_one)\n",
        "print(opt_NaCl.cell)\n",
        "print(opt_NaCl.cell.angles())\n",
        "\n",
        "nacl_two = NaCl.copy()\n",
        "nacl_two.calc = choose_calculator(architecture=\"mace_mp\", model=\"small\")\n",
        "\n",
        "opt_NaCl = optimize(nacl_two,fmax=0.0001,filter_func=FrechetCellFilter,dyn_kwargs={'steps':10},filter_kwargs={'hydrostatic_strain':False})\n",
        "print(opt_NaCl.cell)\n",
        "print(opt_NaCl.cell.angles())\n",
        "\n",
        "nacl_three = NaCl.copy()\n",
        "nacl_three.calc = choose_calculator(architecture=\"mace_mp\", model=\"small\")\n",
        "opt_NaCl = optimize(nacl_three,filter_func=FrechetCellFilter,filter_kwargs={'hydrostatic_strain':True})\n",
        "print(opt_NaCl.cell)\n",
        "print(opt_NaCl.cell.angles())"
      ],
      "metadata": {
        "id": "IM-m0z6jeP-B"
      },
      "execution_count": null,
      "outputs": []
    },
    {
      "cell_type": "code",
      "source": [],
      "metadata": {
        "id": "xTKyEkBphXeI"
      },
      "execution_count": null,
      "outputs": []
    }
  ]
}