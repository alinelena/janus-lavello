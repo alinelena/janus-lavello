{
  "nbformat": 4,
  "nbformat_minor": 0,
  "metadata": {
    "colab": {
      "private_outputs": true,
      "provenance": [],
      "authorship_tag": "ABX9TyNr1PYgJ8OH3rQKc/gVViMh",
      "include_colab_link": true
    },
    "kernelspec": {
      "name": "python3",
      "display_name": "Python 3"
    },
    "language_info": {
      "name": "python"
    }
  },
  "cells": [
    {
      "cell_type": "markdown",
      "metadata": {
        "id": "view-in-github",
        "colab_type": "text"
      },
      "source": [
        "<a href=\"https://colab.research.google.com/github/alinelena/janus-lavello/blob/main/hello_janus.ipynb\" target=\"_parent\"><img src=\"https://colab.research.google.com/assets/colab-badge.svg\" alt=\"Open In Colab\"/></a>"
      ]
    },
    {
      "cell_type": "markdown",
      "source": [
        "install dependencies, pay special atention to install ase by hand"
      ],
      "metadata": {
        "id": "cF2xy0hZ9w5Z"
      }
    },
    {
      "cell_type": "code",
      "execution_count": null,
      "metadata": {
        "id": "PGU3CbVT9vfi"
      },
      "outputs": [],
      "source": [
        "!python3 -m pip install git+https://github.com/stfc/janus-core.git\n",
        "!python3 -m pip install -U git+https://gitlab.com/ase/ase.git"
      ]
    },
    {
      "cell_type": "code",
      "source": [
        "from ase.build import bulk\n",
        "from ase.io import write\n",
        "\n",
        "from janus_core.single_point import SinglePoint\n",
        "\n",
        "NaCl = bulk('NaCl', 'rocksalt', a=5.63, cubic=True)\n",
        "write(\"NaCl.xyz\",NaCl)\n",
        "sp = SinglePoint(structure=\"NaCl.xyz\",\n",
        "                 architecture=\"mace_mp\",\n",
        "                 device='cpu',\n",
        "                 calc_kwargs={'model_paths':'medium'})\n",
        "\n",
        "res = sp.run_single_point()\n",
        "print(res)"
      ],
      "metadata": {
        "id": "cgch8VQ--AES"
      },
      "execution_count": null,
      "outputs": []
    },
    {
      "cell_type": "code",
      "source": [
        "from ase.build import molecule\n",
        "from ase.io import write\n",
        "\n",
        "from janus_core.single_point import SinglePoint\n",
        "\n",
        "h2o = molecule('H2O')\n",
        "write(\"H2O.xyz\",h2o)\n",
        "sp = SinglePoint(structure=\"H2O.xyz\",\n",
        "                 architecture=\"mace_mp\",\n",
        "                 device='cpu')\n",
        "\n",
        "res = sp.run_single_point()\n",
        "print(res)"
      ],
      "metadata": {
        "id": "cbvNchA4_dEq"
      },
      "execution_count": null,
      "outputs": []
    },
    {
      "cell_type": "code",
      "source": [],
      "metadata": {
        "id": "AT1XiWBp-jxR"
      },
      "execution_count": null,
      "outputs": []
    }
  ]
}