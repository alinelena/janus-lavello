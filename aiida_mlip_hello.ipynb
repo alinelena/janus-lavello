{
  "nbformat": 4,
  "nbformat_minor": 0,
  "metadata": {
    "colab": {
      "private_outputs": true,
      "provenance": [],
      "authorship_tag": "ABX9TyPZZIrSJfC3w3EHWkF0BQab",
      "include_colab_link": true
    },
    "kernelspec": {
      "name": "python3",
      "display_name": "Python 3"
    },
    "language_info": {
      "name": "python"
    }
  },
  "cells": [
    {
      "cell_type": "markdown",
      "metadata": {
        "id": "view-in-github",
        "colab_type": "text"
      },
      "source": [
        "<a href=\"https://colab.research.google.com/github/alinelena/janus-lavello/blob/main/aiida_mlip_hello.ipynb\" target=\"_parent\"><img src=\"https://colab.research.google.com/assets/colab-badge.svg\" alt=\"Open In Colab\"/></a>"
      ]
    },
    {
      "cell_type": "code",
      "execution_count": null,
      "metadata": {
        "id": "w_zR9_nvHyEv"
      },
      "outputs": [],
      "source": [
        "!pip install aiida-mlip"
      ]
    },
    {
      "cell_type": "code",
      "source": [
        "!verdi status"
      ],
      "metadata": {
        "id": "FySKV9vIH2EZ"
      },
      "execution_count": null,
      "outputs": []
    },
    {
      "cell_type": "code",
      "source": [],
      "metadata": {
        "id": "xyJnGWqlIQNT"
      },
      "execution_count": null,
      "outputs": []
    }
  ]
}