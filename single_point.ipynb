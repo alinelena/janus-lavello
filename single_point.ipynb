{
  "nbformat": 4,
  "nbformat_minor": 0,
  "metadata": {
    "colab": {
      "private_outputs": true,
      "provenance": [],
      "gpuType": "T4",
      "authorship_tag": "ABX9TyNvtIsPHVgkt0NvUv51T6ZG",
      "include_colab_link": true
    },
    "kernelspec": {
      "name": "python3",
      "display_name": "Python 3"
    },
    "language_info": {
      "name": "python"
    },
    "accelerator": "GPU"
  },
  "cells": [
    {
      "cell_type": "markdown",
      "metadata": {
        "id": "view-in-github",
        "colab_type": "text"
      },
      "source": [
        "<a href=\"https://colab.research.google.com/github/alinelena/janus-lavello/blob/main/single_point.ipynb\" target=\"_parent\"><img src=\"https://colab.research.google.com/assets/colab-badge.svg\" alt=\"Open In Colab\"/></a>"
      ]
    },
    {
      "cell_type": "markdown",
      "source": [
        "install dependencies, pay special atention to install ase by hand"
      ],
      "metadata": {
        "id": "cF2xy0hZ9w5Z"
      }
    },
    {
      "cell_type": "markdown",
      "source": [
        "# Single point calculations with machine learnt interatomic potentials\n",
        "\n",
        "janus-core contains various machine learnt interatomic potentials(MLIP), mace based (mace_mp, mace_off), chgnet, and matgl based m3gnet. Other will be added as their utility is proven beyond a specific material.\n",
        "\n",
        "## Setup envitonment (Optional)\n",
        "\n",
        "this step is to be done only if you want to pull latest versions of various component, add your own components of use a generic jupyter environment without dependencies preinstalled. The instructions are for googlecolab but may work on other systems too."
      ],
      "metadata": {
        "id": "4vcbRxmIhHLL"
      }
    },
    {
      "cell_type": "code",
      "source": [
        "import locale\n",
        "locale.getpreferredencoding = lambda: \"UTF-8\"\n",
        "!python3 -m pip install -U git+https://github.com/stfc/janus-core.git\n",
        "!python3 -m pip install -U git+https://gitlab.com/ase/ase.git\n",
        "!python3 -m pip install matgl\n",
        "!python3 -m pip install chgnet"
      ],
      "metadata": {
        "id": "TF-EiWxyuMc7"
      },
      "execution_count": null,
      "outputs": []
    },
    {
      "cell_type": "markdown",
      "source": [
        "## Single point periodic"
      ],
      "metadata": {
        "id": "857K7R9Cenca"
      }
    },
    {
      "cell_type": "code",
      "source": [
        "from ase.build import bulk\n",
        "from ase.io import write\n",
        "from torch import set_default_dtype, float32\n",
        "\n",
        "from janus_core.calculations.single_point import SinglePoint\n",
        "NaCl = bulk('NaCl', 'rocksalt', a=5.63, cubic=True)\n",
        "sp = SinglePoint(struct=NaCl,\n",
        "                 architecture=\"mace_mp\",\n",
        "                 device='cpu',\n",
        "                 calc_kwargs={'model_paths':'small','default_dtype':'float64'})\n",
        "\n",
        "res_mace = sp.run()\n",
        "\n",
        "# be sure you use single precision... chgnet default wants that\n",
        "set_default_dtype(float32)\n",
        "NaCl = bulk('NaCl', 'rocksalt', a=5.63, cubic=True)\n",
        "sp = SinglePoint(struct=NaCl,\n",
        "                 architecture=\"m3gnet\",\n",
        "                 device=\"cpu\")\n",
        "\n",
        "res_chgnet = sp.run()\n",
        "\n",
        "\n",
        "# be sure you use single precision... chgnet default wants that\n",
        "set_default_dtype(float32)\n",
        "NaCl = bulk('NaCl', 'rocksalt', a=5.63, cubic=True)\n",
        "sp = SinglePoint(struct=NaCl,\n",
        "                 architecture=\"chgnet\",\n",
        "                 device=\"cpu\")\n",
        "\n",
        "res_m3gnet = sp.run()\n",
        "print(f\"  MACE[eV]: {res_mace['energy']}\")\n",
        "print(f\"M3GNET[eV]: {res_m3gnet['energy']}\")\n",
        "print(f\"CHGNET[eV]: {res_chgnet['energy']}\")\n"
      ],
      "metadata": {
        "id": "cgch8VQ--AES"
      },
      "execution_count": null,
      "outputs": []
    },
    {
      "cell_type": "markdown",
      "source": [
        "## Simple Molecules"
      ],
      "metadata": {
        "id": "fDt01muwC5fl"
      }
    },
    {
      "cell_type": "code",
      "source": [
        "from ase.build import molecule\n",
        "from ase.io import write\n",
        "\n",
        "from janus_core.calculations.single_point import SinglePoint\n",
        "\n",
        "sp = SinglePoint(struct=molecule('H2O'),\n",
        "                 architecture=\"mace_off\",\n",
        "                 device='cpu',\n",
        "                 calc_kwargs={'model_paths':'medium'})\n",
        "\n",
        "res = sp.run()\n",
        "print(res)"
      ],
      "metadata": {
        "id": "cbvNchA4_dEq"
      },
      "execution_count": null,
      "outputs": []
    },
    {
      "cell_type": "markdown",
      "source": [
        "## Sugar on salt"
      ],
      "metadata": {
        "id": "lazs3WCKC3fY"
      }
    },
    {
      "cell_type": "code",
      "source": [
        "from ase.build import surface,bulk, add_adsorbate, molecule\n",
        "from ase.visualize import view\n",
        "from ase.io import read,write\n",
        "\n",
        "a = 5.63\n",
        "NaCl = bulk('NaCl', crystalstructure=\"rocksalt\",cubic=True,orthorhombic=True,a=5.63)*(6,6,3)\n",
        "NaCl.center(vacuum=20.0, axis=2)\n",
        "# get it from here https://raw.githubusercontent.com/stfc/janus-tutorials/main/data/sucrose.xyz\n",
        "sugar = read(\"data/sucrose.xyz\")\n",
        "add_adsorbate(slab=NaCl, adsorbate=sugar, height=4.5, position=(10,10))\n",
        "write(\"slab.xyz\",NaCl)\n",
        "sp = SinglePoint(struct_path=\"slab.xyz\",\n",
        "                 architecture=\"mace_mp\",\n",
        "                 device='cpu',\n",
        "                 calc_kwargs={'model_paths':'small'})\n",
        "res = sp.run()\n",
        "print(res)\n",
        "view(NaCl,viewer='x3d')"
      ],
      "metadata": {
        "id": "WHHUSn7gCz-l"
      },
      "execution_count": null,
      "outputs": []
    },
    {
      "cell_type": "code",
      "source": [],
      "metadata": {
        "id": "7BDbwfmDE-BO"
      },
      "execution_count": null,
      "outputs": []
    }
  ]
}